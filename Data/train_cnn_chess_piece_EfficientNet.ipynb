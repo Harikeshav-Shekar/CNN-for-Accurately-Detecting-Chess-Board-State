{
  "cells": [
    {
      "cell_type": "code",
      "execution_count": 1,
      "metadata": {
        "colab": {
          "base_uri": "https://localhost:8080/"
        },
        "id": "iG5tMmzTF1Lv",
        "outputId": "c106ec88-b2a5-467f-9890-d5c2ad0c2730"
      },
      "outputs": [
        {
          "name": "stdout",
          "output_type": "stream",
          "text": [
            "Requirement already satisfied: timm in /usr/local/lib/python3.11/dist-packages (1.0.15)\n",
            "Requirement already satisfied: scikit-learn in /usr/local/lib/python3.11/dist-packages (1.6.1)\n",
            "Requirement already satisfied: matplotlib in /usr/local/lib/python3.11/dist-packages (3.10.0)\n",
            "Requirement already satisfied: pillow in /usr/local/lib/python3.11/dist-packages (11.2.1)\n",
            "Requirement already satisfied: torch in /usr/local/lib/python3.11/dist-packages (from timm) (2.6.0+cu124)\n",
            "Requirement already satisfied: torchvision in /usr/local/lib/python3.11/dist-packages (from timm) (0.21.0+cu124)\n",
            "Requirement already satisfied: pyyaml in /usr/local/lib/python3.11/dist-packages (from timm) (6.0.2)\n",
            "Requirement already satisfied: huggingface_hub in /usr/local/lib/python3.11/dist-packages (from timm) (0.30.2)\n",
            "Requirement already satisfied: safetensors in /usr/local/lib/python3.11/dist-packages (from timm) (0.5.3)\n",
            "Requirement already satisfied: numpy>=1.19.5 in /usr/local/lib/python3.11/dist-packages (from scikit-learn) (2.0.2)\n",
            "Requirement already satisfied: scipy>=1.6.0 in /usr/local/lib/python3.11/dist-packages (from scikit-learn) (1.15.2)\n",
            "Requirement already satisfied: joblib>=1.2.0 in /usr/local/lib/python3.11/dist-packages (from scikit-learn) (1.4.2)\n",
            "Requirement already satisfied: threadpoolctl>=3.1.0 in /usr/local/lib/python3.11/dist-packages (from scikit-learn) (3.6.0)\n",
            "Requirement already satisfied: contourpy>=1.0.1 in /usr/local/lib/python3.11/dist-packages (from matplotlib) (1.3.2)\n",
            "Requirement already satisfied: cycler>=0.10 in /usr/local/lib/python3.11/dist-packages (from matplotlib) (0.12.1)\n",
            "Requirement already satisfied: fonttools>=4.22.0 in /usr/local/lib/python3.11/dist-packages (from matplotlib) (4.57.0)\n",
            "Requirement already satisfied: kiwisolver>=1.3.1 in /usr/local/lib/python3.11/dist-packages (from matplotlib) (1.4.8)\n",
            "Requirement already satisfied: packaging>=20.0 in /usr/local/lib/python3.11/dist-packages (from matplotlib) (24.2)\n",
            "Requirement already satisfied: pyparsing>=2.3.1 in /usr/local/lib/python3.11/dist-packages (from matplotlib) (3.2.3)\n",
            "Requirement already satisfied: python-dateutil>=2.7 in /usr/local/lib/python3.11/dist-packages (from matplotlib) (2.9.0.post0)\n",
            "Requirement already satisfied: six>=1.5 in /usr/local/lib/python3.11/dist-packages (from python-dateutil>=2.7->matplotlib) (1.17.0)\n",
            "Requirement already satisfied: filelock in /usr/local/lib/python3.11/dist-packages (from huggingface_hub->timm) (3.18.0)\n",
            "Requirement already satisfied: fsspec>=2023.5.0 in /usr/local/lib/python3.11/dist-packages (from huggingface_hub->timm) (2025.3.2)\n",
            "Requirement already satisfied: requests in /usr/local/lib/python3.11/dist-packages (from huggingface_hub->timm) (2.32.3)\n",
            "Requirement already satisfied: tqdm>=4.42.1 in /usr/local/lib/python3.11/dist-packages (from huggingface_hub->timm) (4.67.1)\n",
            "Requirement already satisfied: typing-extensions>=3.7.4.3 in /usr/local/lib/python3.11/dist-packages (from huggingface_hub->timm) (4.13.2)\n",
            "Requirement already satisfied: networkx in /usr/local/lib/python3.11/dist-packages (from torch->timm) (3.4.2)\n",
            "Requirement already satisfied: jinja2 in /usr/local/lib/python3.11/dist-packages (from torch->timm) (3.1.6)\n",
            "Collecting nvidia-cuda-nvrtc-cu12==12.4.127 (from torch->timm)\n",
            "  Downloading nvidia_cuda_nvrtc_cu12-12.4.127-py3-none-manylinux2014_x86_64.whl.metadata (1.5 kB)\n",
            "Collecting nvidia-cuda-runtime-cu12==12.4.127 (from torch->timm)\n",
            "  Downloading nvidia_cuda_runtime_cu12-12.4.127-py3-none-manylinux2014_x86_64.whl.metadata (1.5 kB)\n",
            "Collecting nvidia-cuda-cupti-cu12==12.4.127 (from torch->timm)\n",
            "  Downloading nvidia_cuda_cupti_cu12-12.4.127-py3-none-manylinux2014_x86_64.whl.metadata (1.6 kB)\n",
            "Collecting nvidia-cudnn-cu12==9.1.0.70 (from torch->timm)\n",
            "  Downloading nvidia_cudnn_cu12-9.1.0.70-py3-none-manylinux2014_x86_64.whl.metadata (1.6 kB)\n",
            "Collecting nvidia-cublas-cu12==12.4.5.8 (from torch->timm)\n",
            "  Downloading nvidia_cublas_cu12-12.4.5.8-py3-none-manylinux2014_x86_64.whl.metadata (1.5 kB)\n",
            "Collecting nvidia-cufft-cu12==11.2.1.3 (from torch->timm)\n",
            "  Downloading nvidia_cufft_cu12-11.2.1.3-py3-none-manylinux2014_x86_64.whl.metadata (1.5 kB)\n",
            "Collecting nvidia-curand-cu12==10.3.5.147 (from torch->timm)\n",
            "  Downloading nvidia_curand_cu12-10.3.5.147-py3-none-manylinux2014_x86_64.whl.metadata (1.5 kB)\n",
            "Collecting nvidia-cusolver-cu12==11.6.1.9 (from torch->timm)\n",
            "  Downloading nvidia_cusolver_cu12-11.6.1.9-py3-none-manylinux2014_x86_64.whl.metadata (1.6 kB)\n",
            "Collecting nvidia-cusparse-cu12==12.3.1.170 (from torch->timm)\n",
            "  Downloading nvidia_cusparse_cu12-12.3.1.170-py3-none-manylinux2014_x86_64.whl.metadata (1.6 kB)\n",
            "Requirement already satisfied: nvidia-cusparselt-cu12==0.6.2 in /usr/local/lib/python3.11/dist-packages (from torch->timm) (0.6.2)\n",
            "Requirement already satisfied: nvidia-nccl-cu12==2.21.5 in /usr/local/lib/python3.11/dist-packages (from torch->timm) (2.21.5)\n",
            "Requirement already satisfied: nvidia-nvtx-cu12==12.4.127 in /usr/local/lib/python3.11/dist-packages (from torch->timm) (12.4.127)\n",
            "Collecting nvidia-nvjitlink-cu12==12.4.127 (from torch->timm)\n",
            "  Downloading nvidia_nvjitlink_cu12-12.4.127-py3-none-manylinux2014_x86_64.whl.metadata (1.5 kB)\n",
            "Requirement already satisfied: triton==3.2.0 in /usr/local/lib/python3.11/dist-packages (from torch->timm) (3.2.0)\n",
            "Requirement already satisfied: sympy==1.13.1 in /usr/local/lib/python3.11/dist-packages (from torch->timm) (1.13.1)\n",
            "Requirement already satisfied: mpmath<1.4,>=1.1.0 in /usr/local/lib/python3.11/dist-packages (from sympy==1.13.1->torch->timm) (1.3.0)\n",
            "Requirement already satisfied: MarkupSafe>=2.0 in /usr/local/lib/python3.11/dist-packages (from jinja2->torch->timm) (3.0.2)\n",
            "Requirement already satisfied: charset-normalizer<4,>=2 in /usr/local/lib/python3.11/dist-packages (from requests->huggingface_hub->timm) (3.4.1)\n",
            "Requirement already satisfied: idna<4,>=2.5 in /usr/local/lib/python3.11/dist-packages (from requests->huggingface_hub->timm) (3.10)\n",
            "Requirement already satisfied: urllib3<3,>=1.21.1 in /usr/local/lib/python3.11/dist-packages (from requests->huggingface_hub->timm) (2.4.0)\n",
            "Requirement already satisfied: certifi>=2017.4.17 in /usr/local/lib/python3.11/dist-packages (from requests->huggingface_hub->timm) (2025.4.26)\n",
            "Downloading nvidia_cublas_cu12-12.4.5.8-py3-none-manylinux2014_x86_64.whl (363.4 MB)\n",
            "\u001b[2K   \u001b[90m━━━━━━━━━━━━━━━━━━━━━━━━━━━━━━━━━━━━━━━━\u001b[0m \u001b[32m363.4/363.4 MB\u001b[0m \u001b[31m4.5 MB/s\u001b[0m eta \u001b[36m0:00:00\u001b[0m\n",
            "\u001b[?25hDownloading nvidia_cuda_cupti_cu12-12.4.127-py3-none-manylinux2014_x86_64.whl (13.8 MB)\n",
            "\u001b[2K   \u001b[90m━━━━━━━━━━━━━━━━━━━━━━━━━━━━━━━━━━━━━━━━\u001b[0m \u001b[32m13.8/13.8 MB\u001b[0m \u001b[31m117.9 MB/s\u001b[0m eta \u001b[36m0:00:00\u001b[0m\n",
            "\u001b[?25hDownloading nvidia_cuda_nvrtc_cu12-12.4.127-py3-none-manylinux2014_x86_64.whl (24.6 MB)\n",
            "\u001b[2K   \u001b[90m━━━━━━━━━━━━━━━━━━━━━━━━━━━━━━━━━━━━━━━━\u001b[0m \u001b[32m24.6/24.6 MB\u001b[0m \u001b[31m96.9 MB/s\u001b[0m eta \u001b[36m0:00:00\u001b[0m\n",
            "\u001b[?25hDownloading nvidia_cuda_runtime_cu12-12.4.127-py3-none-manylinux2014_x86_64.whl (883 kB)\n",
            "\u001b[2K   \u001b[90m━━━━━━━━━━━━━━━━━━━━━━━━━━━━━━━━━━━━━━━━\u001b[0m \u001b[32m883.7/883.7 kB\u001b[0m \u001b[31m64.0 MB/s\u001b[0m eta \u001b[36m0:00:00\u001b[0m\n",
            "\u001b[?25hDownloading nvidia_cudnn_cu12-9.1.0.70-py3-none-manylinux2014_x86_64.whl (664.8 MB)\n",
            "\u001b[2K   \u001b[90m━━━━━━━━━━━━━━━━━━━━━━━━━━━━━━━━━━━━━━━━\u001b[0m \u001b[32m664.8/664.8 MB\u001b[0m \u001b[31m2.3 MB/s\u001b[0m eta \u001b[36m0:00:00\u001b[0m\n",
            "\u001b[?25hDownloading nvidia_cufft_cu12-11.2.1.3-py3-none-manylinux2014_x86_64.whl (211.5 MB)\n",
            "\u001b[2K   \u001b[90m━━━━━━━━━━━━━━━━━━━━━━━━━━━━━━━━━━━━━━━━\u001b[0m \u001b[32m211.5/211.5 MB\u001b[0m \u001b[31m5.6 MB/s\u001b[0m eta \u001b[36m0:00:00\u001b[0m\n",
            "\u001b[?25hDownloading nvidia_curand_cu12-10.3.5.147-py3-none-manylinux2014_x86_64.whl (56.3 MB)\n",
            "\u001b[2K   \u001b[90m━━━━━━━━━━━━━━━━━━━━━━━━━━━━━━━━━━━━━━━━\u001b[0m \u001b[32m56.3/56.3 MB\u001b[0m \u001b[31m12.6 MB/s\u001b[0m eta \u001b[36m0:00:00\u001b[0m\n",
            "\u001b[?25hDownloading nvidia_cusolver_cu12-11.6.1.9-py3-none-manylinux2014_x86_64.whl (127.9 MB)\n",
            "\u001b[2K   \u001b[90m━━━━━━━━━━━━━━━━━━━━━━━━━━━━━━━━━━━━━━━━\u001b[0m \u001b[32m127.9/127.9 MB\u001b[0m \u001b[31m6.9 MB/s\u001b[0m eta \u001b[36m0:00:00\u001b[0m\n",
            "\u001b[?25hDownloading nvidia_cusparse_cu12-12.3.1.170-py3-none-manylinux2014_x86_64.whl (207.5 MB)\n",
            "\u001b[2K   \u001b[90m━━━━━━━━━━━━━━━━━━━━━━━━━━━━━━━━━━━━━━━━\u001b[0m \u001b[32m207.5/207.5 MB\u001b[0m \u001b[31m6.6 MB/s\u001b[0m eta \u001b[36m0:00:00\u001b[0m\n",
            "\u001b[?25hDownloading nvidia_nvjitlink_cu12-12.4.127-py3-none-manylinux2014_x86_64.whl (21.1 MB)\n",
            "\u001b[2K   \u001b[90m━━━━━━━━━━━━━━━━━━━━━━━━━━━━━━━━━━━━━━━━\u001b[0m \u001b[32m21.1/21.1 MB\u001b[0m \u001b[31m97.7 MB/s\u001b[0m eta \u001b[36m0:00:00\u001b[0m\n",
            "\u001b[?25hInstalling collected packages: nvidia-nvjitlink-cu12, nvidia-curand-cu12, nvidia-cufft-cu12, nvidia-cuda-runtime-cu12, nvidia-cuda-nvrtc-cu12, nvidia-cuda-cupti-cu12, nvidia-cublas-cu12, nvidia-cusparse-cu12, nvidia-cudnn-cu12, nvidia-cusolver-cu12\n",
            "  Attempting uninstall: nvidia-nvjitlink-cu12\n",
            "    Found existing installation: nvidia-nvjitlink-cu12 12.5.82\n",
            "    Uninstalling nvidia-nvjitlink-cu12-12.5.82:\n",
            "      Successfully uninstalled nvidia-nvjitlink-cu12-12.5.82\n",
            "  Attempting uninstall: nvidia-curand-cu12\n",
            "    Found existing installation: nvidia-curand-cu12 10.3.6.82\n",
            "    Uninstalling nvidia-curand-cu12-10.3.6.82:\n",
            "      Successfully uninstalled nvidia-curand-cu12-10.3.6.82\n",
            "  Attempting uninstall: nvidia-cufft-cu12\n",
            "    Found existing installation: nvidia-cufft-cu12 11.2.3.61\n",
            "    Uninstalling nvidia-cufft-cu12-11.2.3.61:\n",
            "      Successfully uninstalled nvidia-cufft-cu12-11.2.3.61\n",
            "  Attempting uninstall: nvidia-cuda-runtime-cu12\n",
            "    Found existing installation: nvidia-cuda-runtime-cu12 12.5.82\n",
            "    Uninstalling nvidia-cuda-runtime-cu12-12.5.82:\n",
            "      Successfully uninstalled nvidia-cuda-runtime-cu12-12.5.82\n",
            "  Attempting uninstall: nvidia-cuda-nvrtc-cu12\n",
            "    Found existing installation: nvidia-cuda-nvrtc-cu12 12.5.82\n",
            "    Uninstalling nvidia-cuda-nvrtc-cu12-12.5.82:\n",
            "      Successfully uninstalled nvidia-cuda-nvrtc-cu12-12.5.82\n",
            "  Attempting uninstall: nvidia-cuda-cupti-cu12\n",
            "    Found existing installation: nvidia-cuda-cupti-cu12 12.5.82\n",
            "    Uninstalling nvidia-cuda-cupti-cu12-12.5.82:\n",
            "      Successfully uninstalled nvidia-cuda-cupti-cu12-12.5.82\n",
            "  Attempting uninstall: nvidia-cublas-cu12\n",
            "    Found existing installation: nvidia-cublas-cu12 12.5.3.2\n",
            "    Uninstalling nvidia-cublas-cu12-12.5.3.2:\n",
            "      Successfully uninstalled nvidia-cublas-cu12-12.5.3.2\n",
            "  Attempting uninstall: nvidia-cusparse-cu12\n",
            "    Found existing installation: nvidia-cusparse-cu12 12.5.1.3\n",
            "    Uninstalling nvidia-cusparse-cu12-12.5.1.3:\n",
            "      Successfully uninstalled nvidia-cusparse-cu12-12.5.1.3\n",
            "  Attempting uninstall: nvidia-cudnn-cu12\n",
            "    Found existing installation: nvidia-cudnn-cu12 9.3.0.75\n",
            "    Uninstalling nvidia-cudnn-cu12-9.3.0.75:\n",
            "      Successfully uninstalled nvidia-cudnn-cu12-9.3.0.75\n",
            "  Attempting uninstall: nvidia-cusolver-cu12\n",
            "    Found existing installation: nvidia-cusolver-cu12 11.6.3.83\n",
            "    Uninstalling nvidia-cusolver-cu12-11.6.3.83:\n",
            "      Successfully uninstalled nvidia-cusolver-cu12-11.6.3.83\n",
            "Successfully installed nvidia-cublas-cu12-12.4.5.8 nvidia-cuda-cupti-cu12-12.4.127 nvidia-cuda-nvrtc-cu12-12.4.127 nvidia-cuda-runtime-cu12-12.4.127 nvidia-cudnn-cu12-9.1.0.70 nvidia-cufft-cu12-11.2.1.3 nvidia-curand-cu12-10.3.5.147 nvidia-cusolver-cu12-11.6.1.9 nvidia-cusparse-cu12-12.3.1.170 nvidia-nvjitlink-cu12-12.4.127\n"
          ]
        }
      ],
      "source": [
        "!pip install timm scikit-learn matplotlib pillow"
      ]
    },
    {
      "cell_type": "code",
      "execution_count": 2,
      "metadata": {
        "id": "kxDXXC5LF2RN"
      },
      "outputs": [],
      "source": [
        "import torch\n",
        "import torch.nn as nn\n",
        "import torch.optim as optim\n",
        "from torch.optim import lr_scheduler\n",
        "from torchvision import transforms\n",
        "from torch.utils.data import Dataset, DataLoader\n",
        "from PIL import Image\n",
        "import time\n",
        "import os\n",
        "import copy\n",
        "import glob\n",
        "import timm\n",
        "from tqdm import tqdm\n",
        "from google.colab import drive"
      ]
    },
    {
      "cell_type": "code",
      "execution_count": 3,
      "metadata": {
        "colab": {
          "base_uri": "https://localhost:8080/"
        },
        "id": "tevTN9-qF5bQ",
        "outputId": "a4a3a2d2-3f9a-471b-9f84-3204c0dcbdc3"
      },
      "outputs": [
        {
          "name": "stdout",
          "output_type": "stream",
          "text": [
            "Mounted at /content/drive\n"
          ]
        }
      ],
      "source": [
        "# --- Mount Google Drive ---\n",
        "drive.mount('/content/drive')"
      ]
    },
    {
      "cell_type": "code",
      "execution_count": null,
      "metadata": {
        "id": "H9nZxr0dF7EL"
      },
      "outputs": [],
      "source": [
        "# --- Configuration ---\n",
        "# !!! IMPORTANT: Please UPDATE these paths to YOUR Google Drive locations Or Local Paths !!!\n",
        "base_drive_path = r'/content/drive/My Drive/Colab Notebooks/Chess Piece Recognition' # Main folder for this project in your Drive -> Replace with your actual path\n",
        "\n",
        "index_files_dir = os.path.join(base_drive_path, 'colab_generated_index_files') # UPDATE THIS TO YOUR SPECIFIC PATH\n",
        "model_dir = os.path.join(base_drive_path, 'EfficientNet_model') # Directory to save models and checkpoints\n",
        "os.makedirs(model_dir, exist_ok=True)\n",
        "\n",
        "checkpoint_path = os.path.join(model_dir, 'latest_checkpoint.pth') # For resuming training\n",
        "best_model_save_path = os.path.join(model_dir, 'best_model_efficientnet_b0.pth') # For the overall best model\n",
        "\n",
        "num_classes = 13\n",
        "batch_size = 32\n",
        "num_epochs = 25 # Total number of epochs you want to train for\n",
        "learning_rate = 0.001\n",
        "image_size = 500"
      ]
    },
    {
      "cell_type": "code",
      "execution_count": 5,
      "metadata": {
        "colab": {
          "base_uri": "https://localhost:8080/"
        },
        "id": "Exyrg2QeF9ri",
        "outputId": "106d984b-87d8-4f9a-d7a7-5cbb1ab278b9"
      },
      "outputs": [
        {
          "name": "stdout",
          "output_type": "stream",
          "text": [
            "Using device: cuda:0\n"
          ]
        }
      ],
      "source": [
        "# --- Classes ---\n",
        "ALL_CLASSES = sorted(['bB', 'bK', 'bN', 'bP', 'bQ', 'bR', 'empty', 'wB', 'wK', 'wN', 'wP', 'wQ', 'wR'])\n",
        "class_to_idx = {cls_name: i for i, cls_name in enumerate(ALL_CLASSES)}\n",
        "idx_to_class = {i: cls_name for i, cls_name in enumerate(ALL_CLASSES)}\n",
        "\n",
        "if num_classes != len(ALL_CLASSES):\n",
        "    raise ValueError(f\"Mismatch in num_classes ({num_classes}) and detected ALL_CLASSES ({len(ALL_CLASSES)}).\")\n",
        "\n",
        "# --- Device Configuration ---\n",
        "device = torch.device(\"cuda:0\" if torch.cuda.is_available() else \"cpu\")\n",
        "print(f\"Using device: {device}\")\n",
        "\n",
        "# --- Data Augmentation and Normalization ---\n",
        "data_transforms = {\n",
        "    'train': transforms.Compose([\n",
        "        transforms.RandomResizedCrop(image_size, scale=(0.8, 1.0)),\n",
        "        transforms.RandomHorizontalFlip(),\n",
        "        transforms.RandomRotation(15),\n",
        "        transforms.ColorJitter(brightness=0.3, contrast=0.3, saturation=0.2, hue=0.1),\n",
        "        transforms.ToTensor(),\n",
        "        transforms.Normalize([0.485, 0.456, 0.406], [0.229, 0.224, 0.225])\n",
        "    ]),\n",
        "    'val': transforms.Compose([\n",
        "        transforms.Resize(image_size + 32),\n",
        "        transforms.CenterCrop(image_size),\n",
        "        transforms.ToTensor(),\n",
        "        transforms.Normalize([0.485, 0.456, 0.406], [0.229, 0.224, 0.225])\n",
        "    ]),\n",
        "    'test': transforms.Compose([\n",
        "        transforms.Resize(image_size + 32),\n",
        "        transforms.CenterCrop(image_size),\n",
        "        transforms.ToTensor(),\n",
        "        transforms.Normalize([0.485, 0.456, 0.406], [0.229, 0.224, 0.225])\n",
        "    ]),\n",
        "}\n",
        "\n",
        "# --- Custom Dataset Class ---\n",
        "class ChessPieceTextFileDataset(Dataset):\n",
        "    def __init__(self, txt_files_dir, split, class_to_idx_map, transform=None):\n",
        "        self.image_paths = []\n",
        "        self.labels = []\n",
        "        self.transform = transform\n",
        "        self.class_to_idx = class_to_idx_map\n",
        "        search_pattern = os.path.join(txt_files_dir, f\"{split}_*.txt\")\n",
        "        class_txt_files = glob.glob(search_pattern)\n",
        "        if not class_txt_files:\n",
        "            raise FileNotFoundError(f\"No text files found for split '{split}' in '{txt_files_dir}' with pattern '{search_pattern}'\")\n",
        "        for txt_file in class_txt_files:\n",
        "            base_name = os.path.basename(txt_file)\n",
        "            class_name_from_file = base_name.replace(f\"{split}_\", \"\").replace(\".txt\", \"\")\n",
        "            if class_name_from_file not in self.class_to_idx:\n",
        "                print(f\"Warning: Class name '{class_name_from_file}' from file '{txt_file}' not in class_to_idx. Skipping.\")\n",
        "                continue\n",
        "            label = self.class_to_idx[class_name_from_file]\n",
        "            with open(txt_file, 'r') as f:\n",
        "                for line in f:\n",
        "                    img_path = line.strip()\n",
        "                    if os.path.exists(img_path):\n",
        "                        self.image_paths.append(img_path)\n",
        "                        self.labels.append(label)\n",
        "                    else:\n",
        "                        print(f\"Warning: Image path not found: {img_path} (from {txt_file})\")\n",
        "        if not self.image_paths:\n",
        "             raise ValueError(f\"No valid image paths found for split '{split}' in '{txt_files_dir}'.\")\n",
        "\n",
        "    def __len__(self):\n",
        "        return len(self.image_paths)\n",
        "\n",
        "    def __getitem__(self, idx):\n",
        "        img_path = self.image_paths[idx]\n",
        "        label = self.labels[idx]\n",
        "        try:\n",
        "            image = Image.open(img_path).convert('RGB')\n",
        "        except FileNotFoundError:\n",
        "            print(f\"ERROR: Image file not found at {img_path}.\")\n",
        "            raise\n",
        "        except Exception as e:\n",
        "            print(f\"ERROR: Could not open image {img_path}. Error: {e}\")\n",
        "            raise\n",
        "        if self.transform:\n",
        "            image = self.transform(image)\n",
        "        return image, torch.tensor(label, dtype=torch.long)"
      ]
    },
    {
      "cell_type": "code",
      "execution_count": 6,
      "metadata": {
        "colab": {
          "base_uri": "https://localhost:8080/"
        },
        "id": "JBb4YLbsGALa",
        "outputId": "d5f0850c-9e44-4c82-ee35-4e6efa5b56a7"
      },
      "outputs": [
        {
          "name": "stdout",
          "output_type": "stream",
          "text": [
            "Preparing datasets from: /content/drive/My Drive/Colab Notebooks/Chess Piece Recognition/colab_generated_index_files\n",
            "Using num_workers = 2 for DataLoaders.\n",
            "Classes: ['bB', 'bK', 'bN', 'bP', 'bQ', 'bR', 'empty', 'wB', 'wK', 'wN', 'wP', 'wQ', 'wR']\n",
            "Dataset sizes: Train: 10400, Val: 1300, Test: 1300\n"
          ]
        }
      ],
      "source": [
        "# --- Load Data ---\n",
        "print(f\"Preparing datasets from: {index_files_dir}\")\n",
        "try:\n",
        "    image_datasets = {\n",
        "        x: ChessPieceTextFileDataset(\n",
        "            txt_files_dir=os.path.join(index_files_dir, x),\n",
        "            split=x,\n",
        "            class_to_idx_map=class_to_idx,\n",
        "            transform=data_transforms[x]\n",
        "        ) for x in ['train', 'val', 'test']\n",
        "    }\n",
        "    num_workers_setting = 2 if device.type == 'cuda' else 0\n",
        "    print(f\"Using num_workers = {num_workers_setting} for DataLoaders.\")\n",
        "    dataloaders = {\n",
        "        x: DataLoader(\n",
        "            image_datasets[x],\n",
        "            batch_size=batch_size,\n",
        "            shuffle=(x == 'train'),\n",
        "            num_workers=num_workers_setting,\n",
        "            pin_memory=True if device.type == 'cuda' else False\n",
        "        ) for x in ['train', 'val', 'test']\n",
        "    }\n",
        "    dataset_sizes = {x: len(image_datasets[x]) for x in ['train', 'val', 'test']}\n",
        "    print(f\"Classes: {ALL_CLASSES}\")\n",
        "    print(f\"Dataset sizes: Train: {dataset_sizes['train']}, Val: {dataset_sizes['val']}, Test: {dataset_sizes['test']}\")\n",
        "except FileNotFoundError as e:\n",
        "    print(f\"Error initializing dataset (FileNotFoundError): {e}\")\n",
        "    exit()\n",
        "except ValueError as e:\n",
        "    print(f\"Error initializing dataset (ValueError): {e}\")\n",
        "    exit()\n"
      ]
    },
    {
      "cell_type": "code",
      "execution_count": 7,
      "metadata": {
        "colab": {
          "base_uri": "https://localhost:8080/",
          "height": 208,
          "referenced_widgets": [
            "e1c2d78bfc59465c875468d085266c22",
            "f60ba82ca94b4216b933b7d072c2e33c",
            "89514062f4514b0cab92fbede6690de9",
            "917f0d6b57474007bd099ec13213139c",
            "fd0fbfa62e0748f7a15508c7e42ceafd",
            "89f0529a8d5e4482a2ce54b6475e63a8",
            "64548e96668a4cbaa0bbaf86e25b307e",
            "dfe9416e496d482bad0b37dba30cdf93",
            "7bda8e39743a4863a79d9102c65a784f",
            "cd2fcc5f98fb42d4a75f44a5ddfb3a08",
            "f6bd906b1dcc42ef88a6314817970fa8"
          ]
        },
        "id": "2die0pvwGCFS",
        "outputId": "095d6414-b86b-4655-9957-e372424a6bf0"
      },
      "outputs": [
        {
          "name": "stderr",
          "output_type": "stream",
          "text": [
            "/usr/local/lib/python3.11/dist-packages/huggingface_hub/utils/_auth.py:94: UserWarning: \n",
            "The secret `HF_TOKEN` does not exist in your Colab secrets.\n",
            "To authenticate with the Hugging Face Hub, create a token in your settings tab (https://huggingface.co/settings/tokens), set it as secret in your Google Colab and restart your session.\n",
            "You will be able to reuse this secret in all of your notebooks.\n",
            "Please note that authentication is recommended but still optional to access public models or datasets.\n",
            "  warnings.warn(\n"
          ]
        },
        {
          "data": {
            "application/vnd.jupyter.widget-view+json": {
              "model_id": "e1c2d78bfc59465c875468d085266c22",
              "version_major": 2,
              "version_minor": 0
            },
            "text/plain": [
              "model.safetensors:   0%|          | 0.00/21.4M [00:00<?, ?B/s]"
            ]
          },
          "metadata": {},
          "output_type": "display_data"
        },
        {
          "name": "stdout",
          "output_type": "stream",
          "text": [
            "Loading checkpoint from: /content/drive/My Drive/Colab Notebooks/Chess Piece Recognition/EfficientNet_model/latest_checkpoint.pth\n",
            "Resuming training from epoch 17, Best Acc so far: 0.9985\n"
          ]
        }
      ],
      "source": [
        "# --- Model, Optimizer, Scheduler Setup ---\n",
        "model_name = 'efficientnet_b0'\n",
        "model_ft = timm.create_model(model_name, pretrained=True, num_classes=num_classes, in_chans=3)\n",
        "model_ft = model_ft.to(device)\n",
        "\n",
        "optimizer_ft = optim.Adam(model_ft.parameters(), lr=learning_rate)\n",
        "exp_lr_scheduler = lr_scheduler.StepLR(optimizer_ft, step_size=7, gamma=0.1)\n",
        "\n",
        "# --- Load Checkpoint if exists ---\n",
        "start_epoch = 0\n",
        "best_acc = 0.0\n",
        "history = {'train_loss': [], 'train_acc': [], 'val_loss': [], 'val_acc': []}\n",
        "\n",
        "if os.path.exists(checkpoint_path):\n",
        "    print(f\"Loading checkpoint from: {checkpoint_path}\")\n",
        "    checkpoint = torch.load(checkpoint_path, map_location=device) # Load to current device\n",
        "    model_ft.load_state_dict(checkpoint['model_state_dict'])\n",
        "    optimizer_ft.load_state_dict(checkpoint['optimizer_state_dict'])\n",
        "    exp_lr_scheduler.load_state_dict(checkpoint['scheduler_state_dict'])\n",
        "    start_epoch = checkpoint['epoch'] + 1 # Start from the next epoch\n",
        "    best_acc = checkpoint['best_acc']\n",
        "    history = checkpoint.get('history', history) # Load history if available\n",
        "    print(f\"Resuming training from epoch {start_epoch}, Best Acc so far: {best_acc:.4f}\")\n",
        "else:\n",
        "    print(f\"No checkpoint found at {checkpoint_path}, starting training from scratch.\")\n",
        "\n",
        "\n",
        "# --- Training Loop ---\n",
        "def train_model(model, criterion, optimizer, scheduler, num_total_epochs=25, current_start_epoch=0, current_best_acc=0.0, training_history=None):\n",
        "    since = time.time()\n",
        "\n",
        "    # Use loaded history or initialize if None\n",
        "    if training_history is None:\n",
        "        training_history = {'train_loss': [], 'train_acc': [], 'val_loss': [], 'val_acc': []}\n",
        "\n",
        "    # This variable will hold the weights of the model that achieved the overall best validation accuracy during this entire training process (including resumed runs)\n",
        "    # It might be different from the 'best_acc' loaded from a checkpoint if a new best is found.\n",
        "    overall_best_model_wts = copy.deepcopy(model.state_dict()) # Initialize with current model state\n",
        "    current_overall_best_acc = current_best_acc # Initialize with loaded best_acc\n",
        "\n",
        "    if current_start_epoch >= num_total_epochs:\n",
        "        print(f\"Training already completed for {num_total_epochs} epochs. Current start epoch is {current_start_epoch}.\")\n",
        "        # Load the best model recorded if it exists\n",
        "        if os.path.exists(best_model_save_path):\n",
        "            print(f\"Loading best model from {best_model_save_path}\")\n",
        "            model.load_state_dict(torch.load(best_model_save_path, map_location=device))\n",
        "        return model, training_history\n",
        "\n",
        "    for epoch in range(current_start_epoch, num_total_epochs):\n",
        "        print(f'\\nEpoch {epoch+1}/{num_total_epochs}' + ' | ' + time.strftime('%H:%M:%S'))\n",
        "        print('-' * 15)\n",
        "        for phase in ['train', 'val']:\n",
        "            if phase == 'train':\n",
        "                model.train()\n",
        "            else:\n",
        "                model.eval()\n",
        "            running_loss = 0.0\n",
        "            running_corrects = 0\n",
        "            progress_bar = tqdm(dataloaders[phase], desc=f\"{phase.capitalize()} Epoch {epoch+1}/{num_total_epochs}\", leave=True)\n",
        "            for inputs, labels in progress_bar:\n",
        "                inputs = inputs.to(device)\n",
        "                labels = labels.to(device)\n",
        "                optimizer.zero_grad()\n",
        "                with torch.set_grad_enabled(phase == 'train'):\n",
        "                    outputs = model(inputs)\n",
        "                    _, preds = torch.max(outputs, 1)\n",
        "                    loss = criterion(outputs, labels)\n",
        "                    if phase == 'train':\n",
        "                        loss.backward()\n",
        "                        optimizer.step()\n",
        "                running_loss += loss.item() * inputs.size(0)\n",
        "                running_corrects += torch.sum(preds == labels.data)\n",
        "\n",
        "            epoch_loss = running_loss / dataset_sizes[phase]\n",
        "            epoch_acc = running_corrects.double() / dataset_sizes[phase]\n",
        "\n",
        "            if phase == 'train':\n",
        "                scheduler.step() # Step the scheduler after each training epoch\n",
        "                training_history['train_loss'].append(epoch_loss)\n",
        "                training_history['train_acc'].append(epoch_acc.item())\n",
        "            else: # val phase\n",
        "                training_history['val_loss'].append(epoch_loss)\n",
        "                training_history['val_acc'].append(epoch_acc.item())\n",
        "\n",
        "                # Update current_overall_best_acc if this epoch's val_acc is better\n",
        "                if epoch_acc > current_overall_best_acc:\n",
        "                    current_overall_best_acc = epoch_acc\n",
        "                    overall_best_model_wts = copy.deepcopy(model.state_dict())\n",
        "                    torch.save(overall_best_model_wts, best_model_save_path)\n",
        "                    print(f\"New Overall Best Model saved to {best_model_save_path} with val_acc: {current_overall_best_acc:.4f}\")\n",
        "\n",
        "                # Save checkpoint at the end of every validation epoch\n",
        "                print(f\"Saving latest checkpoint to {checkpoint_path} (Epoch {epoch+1}, Val Acc: {epoch_acc:.4f})\")\n",
        "                torch.save({\n",
        "                    'epoch': epoch, # Save the completed epoch number\n",
        "                    'model_state_dict': model.state_dict(),\n",
        "                    'optimizer_state_dict': optimizer.state_dict(),\n",
        "                    'scheduler_state_dict': scheduler.state_dict(),\n",
        "                    'best_acc': current_overall_best_acc, # Save the best accuracy found so far across all runs\n",
        "                    'history': training_history\n",
        "                }, checkpoint_path)\n",
        "\n",
        "            print(f'{phase.capitalize()} Loss: {epoch_loss:.4f} Acc: {epoch_acc:.4f}')\n",
        "\n",
        "    time_elapsed = time.time() - since\n",
        "    print(f'\\nTraining complete in {time_elapsed // 60:.0f}m {time_elapsed % 60:.0f}s (for this session)')\n",
        "    print(f'Overall Best val Acc achieved: {current_overall_best_acc:.4f}')\n",
        "\n",
        "    # Load the weights of the overall best model before returning\n",
        "    if os.path.exists(best_model_save_path): # Check if a best model was ever saved\n",
        "         model.load_state_dict(torch.load(best_model_save_path, map_location=device))\n",
        "    else: # Fallback if no best_model_save_path, load last overall_best_model_wts from this run\n",
        "         model.load_state_dict(overall_best_model_wts)\n",
        "\n",
        "    return model, training_history"
      ]
    },
    {
      "cell_type": "code",
      "execution_count": 8,
      "metadata": {
        "colab": {
          "base_uri": "https://localhost:8080/",
          "height": 1000
        },
        "id": "7nmrYrLEGHOf",
        "outputId": "0e7a078b-1007-46a1-ee6d-9d5c2ec9a444"
      },
      "outputs": [
        {
          "name": "stdout",
          "output_type": "stream",
          "text": [
            "Starting training process...\n",
            "\n",
            "Epoch 18/25 | 07:12:48\n",
            "---------------\n"
          ]
        },
        {
          "name": "stderr",
          "output_type": "stream",
          "text": [
            "Train Epoch 18/25: 100%|██████████| 325/325 [23:24<00:00,  4.32s/it]\n"
          ]
        },
        {
          "name": "stdout",
          "output_type": "stream",
          "text": [
            "Train Loss: 0.0066 Acc: 0.9983\n"
          ]
        },
        {
          "name": "stderr",
          "output_type": "stream",
          "text": [
            "Val Epoch 18/25: 100%|██████████| 41/41 [02:28<00:00,  3.63s/it]\n"
          ]
        },
        {
          "name": "stdout",
          "output_type": "stream",
          "text": [
            "Saving latest checkpoint to /content/drive/My Drive/Colab Notebooks/Chess Piece Recognition/EfficientNet_model/latest_checkpoint.pth (Epoch 18, Val Acc: 0.9977)\n",
            "Val Loss: 0.0083 Acc: 0.9977\n",
            "\n",
            "Epoch 19/25 | 07:38:42\n",
            "---------------\n"
          ]
        },
        {
          "name": "stderr",
          "output_type": "stream",
          "text": [
            "Train Epoch 19/25: 100%|██████████| 325/325 [08:01<00:00,  1.48s/it]\n"
          ]
        },
        {
          "name": "stdout",
          "output_type": "stream",
          "text": [
            "Train Loss: 0.0037 Acc: 0.9991\n"
          ]
        },
        {
          "name": "stderr",
          "output_type": "stream",
          "text": [
            "Val Epoch 19/25: 100%|██████████| 41/41 [00:25<00:00,  1.63it/s]\n"
          ]
        },
        {
          "name": "stdout",
          "output_type": "stream",
          "text": [
            "Saving latest checkpoint to /content/drive/My Drive/Colab Notebooks/Chess Piece Recognition/EfficientNet_model/latest_checkpoint.pth (Epoch 19, Val Acc: 0.9985)\n",
            "Val Loss: 0.0085 Acc: 0.9985\n",
            "\n",
            "Epoch 20/25 | 07:47:09\n",
            "---------------\n"
          ]
        },
        {
          "name": "stderr",
          "output_type": "stream",
          "text": [
            "Train Epoch 20/25: 100%|██████████| 325/325 [07:57<00:00,  1.47s/it]\n"
          ]
        },
        {
          "name": "stdout",
          "output_type": "stream",
          "text": [
            "Train Loss: 0.0053 Acc: 0.9984\n"
          ]
        },
        {
          "name": "stderr",
          "output_type": "stream",
          "text": [
            "Val Epoch 20/25: 100%|██████████| 41/41 [00:25<00:00,  1.60it/s]\n"
          ]
        },
        {
          "name": "stdout",
          "output_type": "stream",
          "text": [
            "Saving latest checkpoint to /content/drive/My Drive/Colab Notebooks/Chess Piece Recognition/EfficientNet_model/latest_checkpoint.pth (Epoch 20, Val Acc: 0.9985)\n",
            "Val Loss: 0.0085 Acc: 0.9985\n",
            "\n",
            "Epoch 21/25 | 07:55:33\n",
            "---------------\n"
          ]
        },
        {
          "name": "stderr",
          "output_type": "stream",
          "text": [
            "Train Epoch 21/25: 100%|██████████| 325/325 [07:53<00:00,  1.46s/it]\n"
          ]
        },
        {
          "name": "stdout",
          "output_type": "stream",
          "text": [
            "Train Loss: 0.0051 Acc: 0.9980\n"
          ]
        },
        {
          "name": "stderr",
          "output_type": "stream",
          "text": [
            "Val Epoch 21/25: 100%|██████████| 41/41 [00:26<00:00,  1.57it/s]\n"
          ]
        },
        {
          "name": "stdout",
          "output_type": "stream",
          "text": [
            "Saving latest checkpoint to /content/drive/My Drive/Colab Notebooks/Chess Piece Recognition/EfficientNet_model/latest_checkpoint.pth (Epoch 21, Val Acc: 0.9985)\n",
            "Val Loss: 0.0080 Acc: 0.9985\n",
            "\n",
            "Epoch 22/25 | 08:03:54\n",
            "---------------\n"
          ]
        },
        {
          "name": "stderr",
          "output_type": "stream",
          "text": [
            "Train Epoch 22/25: 100%|██████████| 325/325 [07:58<00:00,  1.47s/it]\n"
          ]
        },
        {
          "name": "stdout",
          "output_type": "stream",
          "text": [
            "Train Loss: 0.0040 Acc: 0.9990\n"
          ]
        },
        {
          "name": "stderr",
          "output_type": "stream",
          "text": [
            "Val Epoch 22/25: 100%|██████████| 41/41 [00:26<00:00,  1.55it/s]\n"
          ]
        },
        {
          "name": "stdout",
          "output_type": "stream",
          "text": [
            "Saving latest checkpoint to /content/drive/My Drive/Colab Notebooks/Chess Piece Recognition/EfficientNet_model/latest_checkpoint.pth (Epoch 22, Val Acc: 0.9985)\n",
            "Val Loss: 0.0079 Acc: 0.9985\n",
            "\n",
            "Epoch 23/25 | 08:12:19\n",
            "---------------\n"
          ]
        },
        {
          "name": "stderr",
          "output_type": "stream",
          "text": [
            "Train Epoch 23/25: 100%|██████████| 325/325 [07:59<00:00,  1.48s/it]\n"
          ]
        },
        {
          "name": "stdout",
          "output_type": "stream",
          "text": [
            "Train Loss: 0.0036 Acc: 0.9988\n"
          ]
        },
        {
          "name": "stderr",
          "output_type": "stream",
          "text": [
            "Val Epoch 23/25: 100%|██████████| 41/41 [00:26<00:00,  1.57it/s]\n"
          ]
        },
        {
          "name": "stdout",
          "output_type": "stream",
          "text": [
            "Saving latest checkpoint to /content/drive/My Drive/Colab Notebooks/Chess Piece Recognition/EfficientNet_model/latest_checkpoint.pth (Epoch 23, Val Acc: 0.9985)\n",
            "Val Loss: 0.0078 Acc: 0.9985\n",
            "\n",
            "Epoch 24/25 | 08:20:45\n",
            "---------------\n"
          ]
        },
        {
          "name": "stderr",
          "output_type": "stream",
          "text": [
            "Train Epoch 24/25: 100%|██████████| 325/325 [08:00<00:00,  1.48s/it]\n"
          ]
        },
        {
          "name": "stdout",
          "output_type": "stream",
          "text": [
            "Train Loss: 0.0039 Acc: 0.9988\n"
          ]
        },
        {
          "name": "stderr",
          "output_type": "stream",
          "text": [
            "Val Epoch 24/25: 100%|██████████| 41/41 [00:25<00:00,  1.60it/s]\n"
          ]
        },
        {
          "name": "stdout",
          "output_type": "stream",
          "text": [
            "Saving latest checkpoint to /content/drive/My Drive/Colab Notebooks/Chess Piece Recognition/EfficientNet_model/latest_checkpoint.pth (Epoch 24, Val Acc: 0.9985)\n",
            "Val Loss: 0.0080 Acc: 0.9985\n",
            "\n",
            "Epoch 25/25 | 08:29:11\n",
            "---------------\n"
          ]
        },
        {
          "name": "stderr",
          "output_type": "stream",
          "text": [
            "Train Epoch 25/25: 100%|██████████| 325/325 [07:57<00:00,  1.47s/it]\n"
          ]
        },
        {
          "name": "stdout",
          "output_type": "stream",
          "text": [
            "Train Loss: 0.0045 Acc: 0.9987\n"
          ]
        },
        {
          "name": "stderr",
          "output_type": "stream",
          "text": [
            "Val Epoch 25/25: 100%|██████████| 41/41 [00:25<00:00,  1.58it/s]\n"
          ]
        },
        {
          "name": "stdout",
          "output_type": "stream",
          "text": [
            "Saving latest checkpoint to /content/drive/My Drive/Colab Notebooks/Chess Piece Recognition/EfficientNet_model/latest_checkpoint.pth (Epoch 25, Val Acc: 0.9985)\n",
            "Val Loss: 0.0077 Acc: 0.9985\n",
            "\n",
            "Training complete in 84m 47s (for this session)\n",
            "Overall Best val Acc achieved: 0.9985\n",
            "Training process finished.\n",
            "Training plot saved to /content/drive/My Drive/Colab Notebooks/Chess Piece Recognition/EfficientNet_model/efficientnet_b0_training_plot.png\n",
            "\n",
            "Evaluating on Test Set with the best model...\n",
            "Loading best model from /content/drive/My Drive/Colab Notebooks/Chess Piece Recognition/EfficientNet_model/best_model_efficientnet_b0.pth for test evaluation.\n"
          ]
        },
        {
          "name": "stderr",
          "output_type": "stream",
          "text": []
        },
        {
          "name": "stdout",
          "output_type": "stream",
          "text": [
            "Test Loss: 0.0097 Acc: 0.9977\n",
            "\n",
            "Classification Report on Test Set:\n",
            "              precision    recall  f1-score   support\n",
            "\n",
            "          bB     1.0000    1.0000    1.0000       100\n",
            "          bK     0.9901    1.0000    0.9950       100\n",
            "          bN     1.0000    1.0000    1.0000       100\n",
            "          bP     1.0000    1.0000    1.0000       100\n",
            "          bQ     1.0000    1.0000    1.0000       100\n",
            "          bR     1.0000    0.9900    0.9950       100\n",
            "       empty     1.0000    1.0000    1.0000       100\n",
            "          wB     1.0000    1.0000    1.0000       100\n",
            "          wK     1.0000    0.9900    0.9950       100\n",
            "          wN     1.0000    1.0000    1.0000       100\n",
            "          wP     1.0000    1.0000    1.0000       100\n",
            "          wQ     0.9900    0.9900    0.9900       100\n",
            "          wR     0.9901    1.0000    0.9950       100\n",
            "\n",
            "    accuracy                         0.9977      1300\n",
            "   macro avg     0.9977    0.9977    0.9977      1300\n",
            "weighted avg     0.9977    0.9977    0.9977      1300\n",
            "\n"
          ]
        },
        {
          "data": {
            "image/png": "[encoded data removed]",
            "text/plain": [
              "<Figure size 1200x500 with 2 Axes>"
            ]
          },
          "metadata": {},
          "output_type": "display_data"
        }
      ],
      "source": [
        "# --- Main Execution ---\n",
        "if __name__ == '__main__':\n",
        "    if not os.path.exists(index_files_dir) or \\\n",
        "       not os.path.exists(os.path.join(index_files_dir, 'train')) or \\\n",
        "       not os.path.exists(os.path.join(index_files_dir, 'val')) or \\\n",
        "       not os.path.exists(os.path.join(index_files_dir, 'test')):\n",
        "        print(f\"Error: Index files directory structure is incorrect or base path '{index_files_dir}' not found.\")\n",
        "    else:\n",
        "        print(\"Starting training process...\")\n",
        "        criterion = nn.CrossEntropyLoss()\n",
        "\n",
        "        model_ft_trained, final_history = train_model(\n",
        "            model_ft, criterion, optimizer_ft, exp_lr_scheduler,\n",
        "            num_total_epochs=num_epochs,\n",
        "            current_start_epoch=start_epoch,\n",
        "            current_best_acc=best_acc,\n",
        "            training_history=history\n",
        "        )\n",
        "        print(\"Training process finished.\")\n",
        "\n",
        "        # Optional: Plotting\n",
        "        try:\n",
        "            import matplotlib.pyplot as plt\n",
        "            # Adjust epochs_range if resuming: plot only up to the number of epochs actually run\n",
        "            epochs_actually_run = len(final_history['train_loss'])\n",
        "            epochs_plot_range = range(epochs_actually_run)\n",
        "\n",
        "            plt.figure(figsize=(12, 5))\n",
        "            plt.subplot(1, 2, 1)\n",
        "            if final_history['train_loss']: plt.plot(epochs_plot_range, final_history['train_loss'], label='Training Loss')\n",
        "            if final_history['val_loss']: plt.plot(epochs_plot_range, final_history['val_loss'], label='Validation Loss')\n",
        "            plt.legend(loc='upper right'); plt.title('Training and Validation Loss'); plt.xlabel('Epoch')\n",
        "\n",
        "            plt.subplot(1, 2, 2)\n",
        "            if final_history['train_acc']: plt.plot(epochs_plot_range, final_history['train_acc'], label='Training Accuracy')\n",
        "            if final_history['val_acc']: plt.plot(epochs_plot_range, final_history['val_acc'], label='Validation Accuracy')\n",
        "            plt.legend(loc='lower right'); plt.title('Training and Validation Accuracy'); plt.xlabel('Epoch')\n",
        "\n",
        "            # Use the best accuracy loaded or found during this run for the title\n",
        "            final_best_val_acc = 0.0\n",
        "            if final_history['val_acc']: # Check if val_acc list is not empty\n",
        "                 final_best_val_acc = max(final_history['val_acc'])\n",
        "\n",
        "            plt.suptitle(f'Model: {model_name} | Total Epochs Run: {epochs_actually_run} | Best Val Acc: {final_best_val_acc:.4f}')\n",
        "            plt.tight_layout(rect=[0, 0.03, 1, 0.95])\n",
        "            plot_save_path = os.path.join(model_dir, f\"{model_name}_training_plot.png\")\n",
        "            plt.savefig(plot_save_path)\n",
        "            print(f\"Training plot saved to {plot_save_path}\")\n",
        "        except ImportError:\n",
        "            print(\"Matplotlib not found. Skipping plotting.\")\n",
        "        except Exception as e:\n",
        "            print(f\"Error during plotting: {e}\")\n",
        "\n",
        "        # --- Evaluation on Test Set (using the overall best model) ---\n",
        "        if dataset_sizes.get('test', 0) > 0:\n",
        "            print(\"\\nEvaluating on Test Set with the best model...\")\n",
        "            # Ensure the best model is loaded for evaluation\n",
        "            if os.path.exists(best_model_save_path):\n",
        "                print(f\"Loading best model from {best_model_save_path} for test evaluation.\")\n",
        "                model_ft_trained.load_state_dict(torch.load(best_model_save_path, map_location=device))\n",
        "\n",
        "            model_ft_trained.eval()\n",
        "            test_running_corrects = 0; test_running_loss = 0.0\n",
        "            all_preds, all_labels = [], []\n",
        "            progress_bar_test = tqdm(dataloaders['test'], desc=\"Testing\", leave=False)\n",
        "            with torch.no_grad():\n",
        "                for inputs, labels in progress_bar_test:\n",
        "                    inputs, labels = inputs.to(device), labels.to(device)\n",
        "                    outputs = model_ft_trained(inputs)\n",
        "                    _, preds = torch.max(outputs, 1)\n",
        "                    loss = criterion(outputs, labels)\n",
        "                    test_running_loss += loss.item() * inputs.size(0)\n",
        "                    test_running_corrects += torch.sum(preds == labels.data)\n",
        "                    all_preds.extend(preds.cpu().numpy()); all_labels.extend(labels.cpu().numpy())\n",
        "            test_loss = test_running_loss / dataset_sizes['test']\n",
        "            test_acc = test_running_corrects.double() / dataset_sizes['test']\n",
        "            print(f'Test Loss: {test_loss:.4f} Acc: {test_acc:.4f}')\n",
        "            try:\n",
        "                from sklearn.metrics import classification_report\n",
        "                print(\"\\nClassification Report on Test Set:\")\n",
        "                target_names = [idx_to_class[i] for i in range(num_classes)]\n",
        "                print(classification_report(all_labels, all_preds, target_names=target_names, digits=4, zero_division=0))\n",
        "            except ImportError:\n",
        "                print(\"scikit-learn not found. Skipping classification report.\")\n",
        "            except Exception as e:\n",
        "                print(f\"Error generating classification report: {e}\")\n",
        "        else:\n",
        "            print(\"\\nNo test data found or test dataset is empty. Skipping evaluation on test set.\")"
      ]
    }
  ],
  "metadata": {
    "accelerator": "GPU",
    "colab": {
      "gpuType": "T4",
      "provenance": []
    },
    "kernelspec": {
      "display_name": "Python 3",
      "name": "python3"
    },
    "language_info": {
      "name": "python"
    },
    "widgets": {
      "application/vnd.jupyter.widget-state+json": {
        "64548e96668a4cbaa0bbaf86e25b307e": {
          "model_module": "@jupyter-widgets/controls",
          "model_module_version": "1.5.0",
          "model_name": "DescriptionStyleModel",
          "state": {
            "_model_module": "@jupyter-widgets/controls",
            "_model_module_version": "1.5.0",
            "_model_name": "DescriptionStyleModel",
            "_view_count": null,
            "_view_module": "@jupyter-widgets/base",
            "_view_module_version": "1.2.0",
            "_view_name": "StyleView",
            "description_width": ""
          }
        },
        "7bda8e39743a4863a79d9102c65a784f": {
          "model_module": "@jupyter-widgets/controls",
          "model_module_version": "1.5.0",
          "model_name": "ProgressStyleModel",
          "state": {
            "_model_module": "@jupyter-widgets/controls",
            "_model_module_version": "1.5.0",
            "_model_name": "ProgressStyleModel",
            "_view_count": null,
            "_view_module": "@jupyter-widgets/base",
            "_view_module_version": "1.2.0",
            "_view_name": "StyleView",
            "bar_color": null,
            "description_width": ""
          }
        },
        "89514062f4514b0cab92fbede6690de9": {
          "model_module": "@jupyter-widgets/controls",
          "model_module_version": "1.5.0",
          "model_name": "FloatProgressModel",
          "state": {
            "_dom_classes": [],
            "_model_module": "@jupyter-widgets/controls",
            "_model_module_version": "1.5.0",
            "_model_name": "FloatProgressModel",
            "_view_count": null,
            "_view_module": "@jupyter-widgets/controls",
            "_view_module_version": "1.5.0",
            "_view_name": "ProgressView",
            "bar_style": "success",
            "description": "",
            "description_tooltip": null,
            "layout": "IPY_MODEL_dfe9416e496d482bad0b37dba30cdf93",
            "max": 21355344,
            "min": 0,
            "orientation": "horizontal",
            "style": "IPY_MODEL_7bda8e39743a4863a79d9102c65a784f",
            "value": 21355344
          }
        },
        "89f0529a8d5e4482a2ce54b6475e63a8": {
          "model_module": "@jupyter-widgets/base",
          "model_module_version": "1.2.0",
          "model_name": "LayoutModel",
          "state": {
            "_model_module": "@jupyter-widgets/base",
            "_model_module_version": "1.2.0",
            "_model_name": "LayoutModel",
            "_view_count": null,
            "_view_module": "@jupyter-widgets/base",
            "_view_module_version": "1.2.0",
            "_view_name": "LayoutView",
            "align_content": null,
            "align_items": null,
            "align_self": null,
            "border": null,
            "bottom": null,
            "display": null,
            "flex": null,
            "flex_flow": null,
            "grid_area": null,
            "grid_auto_columns": null,
            "grid_auto_flow": null,
            "grid_auto_rows": null,
            "grid_column": null,
            "grid_gap": null,
            "grid_row": null,
            "grid_template_areas": null,
            "grid_template_columns": null,
            "grid_template_rows": null,
            "height": null,
            "justify_content": null,
            "justify_items": null,
            "left": null,
            "margin": null,
            "max_height": null,
            "max_width": null,
            "min_height": null,
            "min_width": null,
            "object_fit": null,
            "object_position": null,
            "order": null,
            "overflow": null,
            "overflow_x": null,
            "overflow_y": null,
            "padding": null,
            "right": null,
            "top": null,
            "visibility": null,
            "width": null
          }
        },
        "917f0d6b57474007bd099ec13213139c": {
          "model_module": "@jupyter-widgets/controls",
          "model_module_version": "1.5.0",
          "model_name": "HTMLModel",
          "state": {
            "_dom_classes": [],
            "_model_module": "@jupyter-widgets/controls",
            "_model_module_version": "1.5.0",
            "_model_name": "HTMLModel",
            "_view_count": null,
            "_view_module": "@jupyter-widgets/controls",
            "_view_module_version": "1.5.0",
            "_view_name": "HTMLView",
            "description": "",
            "description_tooltip": null,
            "layout": "IPY_MODEL_cd2fcc5f98fb42d4a75f44a5ddfb3a08",
            "placeholder": "​",
            "style": "IPY_MODEL_f6bd906b1dcc42ef88a6314817970fa8",
            "value": " 21.4M/21.4M [00:00&lt;00:00, 26.4MB/s]"
          }
        },
        "cd2fcc5f98fb42d4a75f44a5ddfb3a08": {
          "model_module": "@jupyter-widgets/base",
          "model_module_version": "1.2.0",
          "model_name": "LayoutModel",
          "state": {
            "_model_module": "@jupyter-widgets/base",
            "_model_module_version": "1.2.0",
            "_model_name": "LayoutModel",
            "_view_count": null,
            "_view_module": "@jupyter-widgets/base",
            "_view_module_version": "1.2.0",
            "_view_name": "LayoutView",
            "align_content": null,
            "align_items": null,
            "align_self": null,
            "border": null,
            "bottom": null,
            "display": null,
            "flex": null,
            "flex_flow": null,
            "grid_area": null,
            "grid_auto_columns": null,
            "grid_auto_flow": null,
            "grid_auto_rows": null,
            "grid_column": null,
            "grid_gap": null,
            "grid_row": null,
            "grid_template_areas": null,
            "grid_template_columns": null,
            "grid_template_rows": null,
            "height": null,
            "justify_content": null,
            "justify_items": null,
            "left": null,
            "margin": null,
            "max_height": null,
            "max_width": null,
            "min_height": null,
            "min_width": null,
            "object_fit": null,
            "object_position": null,
            "order": null,
            "overflow": null,
            "overflow_x": null,
            "overflow_y": null,
            "padding": null,
            "right": null,
            "top": null,
            "visibility": null,
            "width": null
          }
        },
        "dfe9416e496d482bad0b37dba30cdf93": {
          "model_module": "@jupyter-widgets/base",
          "model_module_version": "1.2.0",
          "model_name": "LayoutModel",
          "state": {
            "_model_module": "@jupyter-widgets/base",
            "_model_module_version": "1.2.0",
            "_model_name": "LayoutModel",
            "_view_count": null,
            "_view_module": "@jupyter-widgets/base",
            "_view_module_version": "1.2.0",
            "_view_name": "LayoutView",
            "align_content": null,
            "align_items": null,
            "align_self": null,
            "border": null,
            "bottom": null,
            "display": null,
            "flex": null,
            "flex_flow": null,
            "grid_area": null,
            "grid_auto_columns": null,
            "grid_auto_flow": null,
            "grid_auto_rows": null,
            "grid_column": null,
            "grid_gap": null,
            "grid_row": null,
            "grid_template_areas": null,
            "grid_template_columns": null,
            "grid_template_rows": null,
            "height": null,
            "justify_content": null,
            "justify_items": null,
            "left": null,
            "margin": null,
            "max_height": null,
            "max_width": null,
            "min_height": null,
            "min_width": null,
            "object_fit": null,
            "object_position": null,
            "order": null,
            "overflow": null,
            "overflow_x": null,
            "overflow_y": null,
            "padding": null,
            "right": null,
            "top": null,
            "visibility": null,
            "width": null
          }
        },
        "e1c2d78bfc59465c875468d085266c22": {
          "model_module": "@jupyter-widgets/controls",
          "model_module_version": "1.5.0",
          "model_name": "HBoxModel",
          "state": {
            "_dom_classes": [],
            "_model_module": "@jupyter-widgets/controls",
            "_model_module_version": "1.5.0",
            "_model_name": "HBoxModel",
            "_view_count": null,
            "_view_module": "@jupyter-widgets/controls",
            "_view_module_version": "1.5.0",
            "_view_name": "HBoxView",
            "box_style": "",
            "children": [
              "IPY_MODEL_f60ba82ca94b4216b933b7d072c2e33c",
              "IPY_MODEL_89514062f4514b0cab92fbede6690de9",
              "IPY_MODEL_917f0d6b57474007bd099ec13213139c"
            ],
            "layout": "IPY_MODEL_fd0fbfa62e0748f7a15508c7e42ceafd"
          }
        },
        "f60ba82ca94b4216b933b7d072c2e33c": {
          "model_module": "@jupyter-widgets/controls",
          "model_module_version": "1.5.0",
          "model_name": "HTMLModel",
          "state": {
            "_dom_classes": [],
            "_model_module": "@jupyter-widgets/controls",
            "_model_module_version": "1.5.0",
            "_model_name": "HTMLModel",
            "_view_count": null,
            "_view_module": "@jupyter-widgets/controls",
            "_view_module_version": "1.5.0",
            "_view_name": "HTMLView",
            "description": "",
            "description_tooltip": null,
            "layout": "IPY_MODEL_89f0529a8d5e4482a2ce54b6475e63a8",
            "placeholder": "​",
            "style": "IPY_MODEL_64548e96668a4cbaa0bbaf86e25b307e",
            "value": "model.safetensors: 100%"
          }
        },
        "f6bd906b1dcc42ef88a6314817970fa8": {
          "model_module": "@jupyter-widgets/controls",
          "model_module_version": "1.5.0",
          "model_name": "DescriptionStyleModel",
          "state": {
            "_model_module": "@jupyter-widgets/controls",
            "_model_module_version": "1.5.0",
            "_model_name": "DescriptionStyleModel",
            "_view_count": null,
            "_view_module": "@jupyter-widgets/base",
            "_view_module_version": "1.2.0",
            "_view_name": "StyleView",
            "description_width": ""
          }
        },
        "fd0fbfa62e0748f7a15508c7e42ceafd": {
          "model_module": "@jupyter-widgets/base",
          "model_module_version": "1.2.0",
          "model_name": "LayoutModel",
          "state": {
            "_model_module": "@jupyter-widgets/base",
            "_model_module_version": "1.2.0",
            "_model_name": "LayoutModel",
            "_view_count": null,
            "_view_module": "@jupyter-widgets/base",
            "_view_module_version": "1.2.0",
            "_view_name": "LayoutView",
            "align_content": null,
            "align_items": null,
            "align_self": null,
            "border": null,
            "bottom": null,
            "display": null,
            "flex": null,
            "flex_flow": null,
            "grid_area": null,
            "grid_auto_columns": null,
            "grid_auto_flow": null,
            "grid_auto_rows": null,
            "grid_column": null,
            "grid_gap": null,
            "grid_row": null,
            "grid_template_areas": null,
            "grid_template_columns": null,
            "grid_template_rows": null,
            "height": null,
            "justify_content": null,
            "justify_items": null,
            "left": null,
            "margin": null,
            "max_height": null,
            "max_width": null,
            "min_height": null,
            "min_width": null,
            "object_fit": null,
            "object_position": null,
            "order": null,
            "overflow": null,
            "overflow_x": null,
            "overflow_y": null,
            "padding": null,
            "right": null,
            "top": null,
            "visibility": null,
            "width": null
          }
        }
      }
    }
  },
  "nbformat": 4,
  "nbformat_minor": 0
}
